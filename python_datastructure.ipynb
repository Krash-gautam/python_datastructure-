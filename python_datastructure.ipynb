{
  "nbformat": 4,
  "nbformat_minor": 0,
  "metadata": {
    "colab": {
      "provenance": []
    },
    "kernelspec": {
      "name": "python3",
      "display_name": "Python 3"
    },
    "language_info": {
      "name": "python"
    }
  },
  "cells": [
    {
      "cell_type": "markdown",
      "source": [
        "## Python - Data Structure Assignment\n",
        "-----------------------------------------------------------------\n",
        "Q1. What are data structures, and why are they important?\n",
        "-  Data structures are a specific way of organizing data in a well organized  format on a computer so that the information can be organized, processed, stored, and retrieved quickly and effectively.\n",
        "- It is important because\n",
        "    - they make the code more efficient\n",
        "    - and they make the code easier to understand.\n",
        "    - Simplify data manipulation (adding, removing, modifying elements)\n",
        "    - Conserve memory usage\n",
        "-----------------------------------------------------------------\n",
        "Q2. Explain the difference between mutable and immutable data types with examples.\n",
        "-  Mutable data types in which the data can be modified by adding or removing the element .\n",
        "  -  for example: List , set and ddictionaries.\n",
        "- Immutable data types in which the data cannot be modified by adding or removing the element.\n",
        "  -  for example: Stings and Tuples\n",
        "-----------------------------------------------------------------\n",
        "Q3. What are the main differences between lists and tuples in Python?\n",
        "-  Lists are mutable which means the values are editable even after the list is being created, where as, Tuples are immutable which means tuples cannot be modified by adding or removing element.\n",
        "-----------------------------------------------------------------\n",
        "Q4. Describe how dictionaries store data.\n",
        "-  Dictionaries are key-value pairs that allow you to store and retrieve data based on a 'unique key'. The keys must be immutable or unique, such as strings or numbers. Dictionaries are useful for storing data that needs to be accessed quickly and efficiently.\n",
        "      \n",
        "          syntax:\n",
        "          dic = {\"name\":\"Avinesh\", \"email\":\"avi@gmail.com\", \"contact\": 7985}\n",
        "          #key must be unique in this key are; name, email ,contact.\n",
        "-----------------------------------------------------------------\n",
        "Q5.  Why might you use a set instead of a list in Python?\n",
        "-  Use Set when you want the content should be unique and order of content doesn't matter, while List is used when you need to maintain the order of elements and allow duplicates.\n",
        "-----------------------------------------------------------------\n",
        "Q6. What is a string in Python, and how is it different from a list?\n",
        "-  String is a sequence of data. The main difference is that, String is a immutable data type while list is mutable. Stings data are to be stroed within single(' ') or double quote (\" \").\n",
        "-----------------------------------------------------------------\n",
        "Q7.  How do tuples ensure data integrity in Python?\n",
        "-  Tuples are immutable to ensure that their contents remains constant. which means the value will remain unchanged.\n",
        "-----------------------------------------------------------------\n",
        "Q8. What is a hash table, and how does it relate to dictionaries in Python?\n",
        "-  A Hash Table in Python is nothing but a data structure where data is stored in an proper manner. In hash tables, data is stored in an array format, with every data value having an exclusive or unique index value.\n",
        "-----------------------------------------------------------------\n",
        "Q9. Can lists contain different data types in Python?\n",
        "-  Yes, lists can contain the different data types in python. Like, string , integer, bollean, and so on.\n",
        "-----------------------------------------------------------------\n",
        "Q10.  Explain why strings are immutable in Python.\n",
        "-  As we know onces the string value is being assigned to the varible the value cannot be changed or modifed because the value is being assigned in the varible or memory of the system.\n",
        "-----------------------------------------------------------------\n",
        "Q11.What advantages do dictionaries offer over lists for certain tasks?\n",
        "-  The dictionaries stores data as key value pair which helps in retreving the data more effectively.\n",
        "- where as in lists the data retreiving the index postion has to be given for getting the data fromn the list\n",
        "          #in dictionaries the retreving of data by using the key i.e. name\n",
        "          dic = {\"name\":\"Avinesh\", \"email\":\"avi@gmail.com\", \"contact\": 7985}\n",
        "          dic['name']\n",
        "          \n",
        "          #in lists the retreving of data by using the index no.\n",
        "          list1= [1, 2, 3, 4]\n",
        "          list[0]\n",
        "-----------------------------------------------------------------\n",
        "Q12. Describe a scenario where using a tuple would be preferable over a list.\n",
        "-  Tuples can be used in the scenario where the value has be remained unchanged\n",
        "\n",
        "For example\n",
        "- employee id\n",
        "- roll no\n",
        "- account number and many more.\n",
        "-----------------------------------------------------------------\n",
        "Q13.How do sets handle duplicate values in Python?\n",
        "-  Set function is being used to remove duplicate values in python.\n",
        "          syntax:\n",
        "          items = ['apple', 'banana', 'apple', 'onion', 'apple']\n",
        "          set1 = (set(items))\n",
        "          print(set1)\n",
        "-----------------------------------------------------------------\n",
        "Q14.How does the “in” keyword work differently for lists and dictionaries?\n",
        "-  \"in\" keyword in list are usefull to find whether the element is present in the list or not\n",
        "          example:\n",
        "          my_list = [\"Apple\", \"Banana\", \"orange\"]\n",
        "          my_list\n",
        "          'Apple' in my_list\n",
        "          \n",
        "          output:\n",
        "                 True\n",
        "- \"in\" operator in dictonaries are used in zip function it tells you whether something appears or not as a key in the dictionary\n",
        "          example:\n",
        "          students = [\"Avinesh\", \"Aditya\", \"Rohan\"]\n",
        "          marks = [80, 90, 100]\n",
        "          {student:marks for student, marks in zip(students, marks)}\n",
        "-----------------------------------------------------------------\n",
        "Q15. Can you modify the elements of a tuple? Explain why or why not.\n",
        "- No, we can not add, remove or modify the elements of a tuple once it is created , because the tuples are immutable data type and once the value being assigned it cannot be modified\n",
        "-----------------------------------------------------------------\n",
        "Q16.What is a nested dictionary, and give an example of its use case?\n",
        "-  In Python, a nested dictionary is a dictionary inside a dictionary. It's a collection of dictionaries into one single dictionary.\n",
        "- the most popular use case is in:\n",
        "    - Restaurants\n",
        "    - Offices\n",
        "    - Schools\n",
        "    - Big companies\n",
        "\n",
        "            For example:\n",
        "            student = {\n",
        "              'R1': {'name': 'AVINESH', 'age': 15, 'contact': '1234'},\n",
        "              'R2': {'name': 'ADITYA', 'age': 14, 'contact': '4567'},\n",
        "              'R3': {'name': 'ROHAN', 'age': 16, 'contact': '7890'}\n",
        "              }\n",
        "            student['R1']\n",
        "\n",
        "            output:\n",
        "                  {'name': 'AVINESH', 'age': 15, 'contact': '1234'}\n",
        "-----------------------------------------------------------------\n",
        "Q17.Describe the time complexity of accessing elements in a dictionary.\n",
        "-  The time complexity of inserting a new element into a Python dictionary is typically O(1). This means that the time taken to insert an element into a dictionary is constant, regardless of the size of the dictionary. This is because Python dictionaries use a hash table data structure, which allows for fast insertion, retrieval, and deletion of key-value pairs.\n",
        "-----------------------------------------------------------------\n",
        "Q18.In what situations are lists preferred over dictionaries?\n",
        "-  If you need an ordered collection, like a sequence of user actions, then lists are useful. On the other hand, when you need quick look-ups to user data, dictionaries are invaluable.\n",
        "- Elements from the list can be accessed using the index, while the elements of the dictionary can be accessed using keys.\n",
        "-----------------------------------------------------------------\n",
        "Q19. Why are dictionaries considered unordered, and how does that affect data retrieval?\n",
        "-  Dictionary is a data structure which is a important value structure, optimized for fast storage and recovery based on key. In python, dictionaries are unordered because Python dictionaries are not programmed to be in order, as simple as that.\n",
        "-----------------------------------------------------------------\n",
        "Q20.Explain the difference between a list and a dictionary in terms of data retrieval.\n",
        "- A list is an ordered collection of items, whereas a dictionary is an unordered data collection in a key-value pair. Elements from the list can be accessed using the index, while the elements of the dictionary can be accessed using keys.\n",
        "          For exasmple:\n",
        "            #in dictionaries the retreving of data by using the key i.e. name\n",
        "              dic = {\"name\":\"Avinesh\", \"email\":\"avi@gmail.com\", \"contact\": 7985}\n",
        "              dic['name']\n",
        "         \n",
        "          #in lists the retreving of data by using the index no.\n",
        "            list1= [1, 2, 3, 4]\n",
        "            list[0]"
      ],
      "metadata": {
        "id": "gxtCVRUdkfhW"
      }
    },
    {
      "cell_type": "code",
      "source": [
        "#Practical question\n",
        "'''\n",
        "Q1.  Write a code to create a string with your name and print it.\n",
        "\n",
        "'''\n",
        "'''\n",
        "Answere:-1\n",
        "'''\n",
        "#in this the name is already defined\n",
        "name = \"krash gautam\"\n",
        "print(\"My name is:\", name)\n",
        "\n",
        "#in this the value can be added by using input function and the value will be stored in the form of string.\n",
        "\n",
        "my_name = input(\"Enter your name:\")\n",
        "print(\"My name is:\", my_name)\n",
        "type(my_name)"
      ],
      "metadata": {
        "colab": {
          "base_uri": "https://localhost:8080/"
        },
        "id": "zkyvck3sX-vJ",
        "outputId": "7fd52e2c-4585-4dcf-b54c-6e29a7d62c8e"
      },
      "execution_count": null,
      "outputs": [
        {
          "output_type": "stream",
          "name": "stdout",
          "text": [
            "My name is: krash gautam\n",
            "Enter your name:krash gautam\n",
            "My name is: krash gautam\n"
          ]
        },
        {
          "output_type": "execute_result",
          "data": {
            "text/plain": [
              "str"
            ]
          },
          "metadata": {},
          "execution_count": 1
        }
      ]
    },
    {
      "cell_type": "code",
      "source": [
        "#Practical question\n",
        "'''\n",
        "Q2. Write a code to find the length of the string \"Hello World\".\n",
        "\n",
        "'''\n",
        "'''\n",
        "Answere:-2\n",
        "'''\n",
        "quote = \"Hello World\"\n",
        "length = len(quote)\n",
        "print(\"Length of the string:\", length)\n",
        "#the output includes the total length of string including space\n"
      ],
      "metadata": {
        "colab": {
          "base_uri": "https://localhost:8080/"
        },
        "id": "ibOC4m6nYh-z",
        "outputId": "d1a38c29-2201-4fe7-92a4-56a4aa2d6fb6"
      },
      "execution_count": null,
      "outputs": [
        {
          "output_type": "stream",
          "name": "stdout",
          "text": [
            "Length of the string: 11\n"
          ]
        }
      ]
    },
    {
      "cell_type": "code",
      "source": [
        "#Practical question\n",
        "'''\n",
        "Q3. Write a code to slice the first 3 characters from the string \"Python Programming\".\n",
        "\n",
        "'''\n",
        "'''\n",
        "Answere:-3\n",
        "'''\n",
        "quote = \"Python Programming\"\n",
        "sliced_quote = quote[:3]\n",
        "print(\"First 3 characters from the string:\", sliced_quote)\n"
      ],
      "metadata": {
        "colab": {
          "base_uri": "https://localhost:8080/"
        },
        "id": "g40rcukLZE0T",
        "outputId": "c07aebf2-2a86-4183-a8fa-513f985e7ffa"
      },
      "execution_count": null,
      "outputs": [
        {
          "output_type": "stream",
          "name": "stdout",
          "text": [
            "First 3 characters from the string: Pyt\n"
          ]
        }
      ]
    },
    {
      "cell_type": "code",
      "source": [
        "#Practical question\n",
        "'''\n",
        "Q4. Write a code to convert the string \"hello\" to uppercase.\n",
        "\n",
        "'''\n",
        "'''\n",
        "Answere:-4\n",
        "'''\n",
        "quote = \"hello\"\n",
        "print(\"Original quote:\", quote) #i'm adding this quote to show the difference\n",
        "uppercase_quote = quote.upper()\n",
        "print(\"Uppercase quote:\", uppercase_quote)"
      ],
      "metadata": {
        "colab": {
          "base_uri": "https://localhost:8080/"
        },
        "id": "tc10xBT4ZTQj",
        "outputId": "927e0834-2811-4470-fb07-588a8661c15c"
      },
      "execution_count": null,
      "outputs": [
        {
          "output_type": "stream",
          "name": "stdout",
          "text": [
            "Original quote: hello\n",
            "Uppercase quote: HELLO\n"
          ]
        }
      ]
    },
    {
      "cell_type": "code",
      "source": [
        "#Practical question\n",
        "'''\n",
        "Q5. Write a code to replace the word \"apple\" with \"orange\" in the string \"I like apple\".\n",
        "\n",
        "'''\n",
        "'''\n",
        "Answere:-5\n",
        "'''\n",
        "quote = \"I like apple\"\n",
        "print(\"Original string value:\", quote)\n",
        "new_quote = quote.replace(\"apple\", \"orange\")\n",
        "print(\"Replaced string value:\" , new_quote)"
      ],
      "metadata": {
        "colab": {
          "base_uri": "https://localhost:8080/"
        },
        "id": "-x-8TCllZxOb",
        "outputId": "74f77188-4e77-4a48-fb77-7f8884a151db"
      },
      "execution_count": null,
      "outputs": [
        {
          "output_type": "stream",
          "name": "stdout",
          "text": [
            "Original string value: I like apple\n",
            "Replaced string value: I like orange\n"
          ]
        }
      ]
    },
    {
      "cell_type": "code",
      "source": [
        "#Practical question\n",
        "'''\n",
        "Q6. Write a code to create a list with numbers 1 to 5 and print it.\n",
        "\n",
        "'''\n",
        "'''\n",
        "Answere:-6\n",
        "'''\n",
        "my_list = list(range(1,6))\n",
        "print(\"My list:\", my_list)"
      ],
      "metadata": {
        "colab": {
          "base_uri": "https://localhost:8080/"
        },
        "id": "zQmZBJpmZ6N5",
        "outputId": "d40ab6d0-4433-484d-a6a7-d7a099322188"
      },
      "execution_count": null,
      "outputs": [
        {
          "output_type": "stream",
          "name": "stdout",
          "text": [
            "My list: [1, 2, 3, 4, 5]\n"
          ]
        }
      ]
    },
    {
      "cell_type": "code",
      "source": [
        "#Practical question\n",
        "'''\n",
        "Q7. Write a code to append the number 10 to the list [1, 2, 3, 4].\n",
        "\n",
        "'''\n",
        "'''\n",
        "Answere:-7\n",
        "'''\n",
        "my_list = [1, 2, 3, 4]\n",
        "my_list.append(10)\n",
        "print(\"New updated list:\", my_list)"
      ],
      "metadata": {
        "colab": {
          "base_uri": "https://localhost:8080/"
        },
        "id": "4TTGbIhWaJQ-",
        "outputId": "a94d904b-ddbd-414f-e5ee-ad5e19e47650"
      },
      "execution_count": null,
      "outputs": [
        {
          "output_type": "stream",
          "name": "stdout",
          "text": [
            "New updated list: [1, 2, 3, 4, 10]\n"
          ]
        }
      ]
    },
    {
      "cell_type": "code",
      "source": [
        "#Practical question\n",
        "'''\n",
        "Q8. Write a code to remove the number 3 from the list [1, 2, 3, 4, 5].\n",
        "\n",
        "'''\n",
        "'''\n",
        "Answere:-8\n",
        "'''\n",
        "my_list = [1, 2, 3, 4, 5]\n",
        "my_list.remove(3)\n",
        "print(\"Updated list:\", my_list)"
      ],
      "metadata": {
        "colab": {
          "base_uri": "https://localhost:8080/"
        },
        "id": "2LjiujYRab7e",
        "outputId": "65cf3326-6548-439a-dd2f-d996da512209"
      },
      "execution_count": null,
      "outputs": [
        {
          "output_type": "stream",
          "name": "stdout",
          "text": [
            "Updated list: [1, 2, 4, 5]\n"
          ]
        }
      ]
    },
    {
      "cell_type": "code",
      "source": [
        "#Practical question\n",
        "'''\n",
        "Q9. Write a code to access the second element in the list ['a', 'b', 'c', 'd'].\n",
        "\n",
        "'''\n",
        "'''\n",
        "Answere:-9\n",
        "'''\n",
        "my_list = ['a', 'b', 'c', 'd']\n",
        "second_element = my_list[1]\n",
        "print(\"second element:\" , second_element)"
      ],
      "metadata": {
        "colab": {
          "base_uri": "https://localhost:8080/"
        },
        "id": "4BAgH_DPa0sX",
        "outputId": "88193752-a651-4394-f3be-73fa6a014bed"
      },
      "execution_count": null,
      "outputs": [
        {
          "output_type": "stream",
          "name": "stdout",
          "text": [
            "second element: b\n"
          ]
        }
      ]
    },
    {
      "cell_type": "code",
      "source": [
        "#Practical question\n",
        "'''\n",
        "Q10.  Write a code to reverse the list [10, 20, 30, 40, 50].\n",
        "\n",
        "'''\n",
        "'''\n",
        "Answere:-10\n",
        "'''\n",
        "\n",
        "original_list = [10, 20, 30, 40, 50]\n",
        "\n",
        "reversed_list = original_list[::-1]\n",
        "\n",
        "print(\"Reversed List:\", reversed_list)\n",
        "\n",
        "# there is an another method for reversing the list are :\n",
        "print(\" \")\n",
        "\n",
        "original_list = [10, 20, 30, 40, 50]\n",
        "original_list.reverse()\n",
        "print(\"Reversed List:\", original_list)\n",
        "\n",
        "# In both the cases the answer will be same.\n"
      ],
      "metadata": {
        "colab": {
          "base_uri": "https://localhost:8080/"
        },
        "id": "vRJ3GuCmbVOB",
        "outputId": "d93840ee-37e3-4974-e379-aceb02f9a21c"
      },
      "execution_count": null,
      "outputs": [
        {
          "output_type": "stream",
          "name": "stdout",
          "text": [
            "Reversed List: [50, 40, 30, 20, 10]\n",
            " \n",
            "Reversed List: [50, 40, 30, 20, 10]\n"
          ]
        }
      ]
    },
    {
      "cell_type": "code",
      "source": [
        "#Practical question\n",
        "'''\n",
        "Q11. Write a code to create a tuple with the elements 100, 200, 300 and print it.\n",
        "\n",
        "'''\n",
        "'''\n",
        "Answere:-11\n",
        "'''\n",
        "my_tuple = (100, 200, 300)\n",
        "print(\"My tuple:\", my_tuple)\n",
        "type(my_tuple)"
      ],
      "metadata": {
        "colab": {
          "base_uri": "https://localhost:8080/"
        },
        "id": "Zn5z_gLQb-QD",
        "outputId": "b5deb7fd-429a-4057-ed52-91d55f81d107"
      },
      "execution_count": null,
      "outputs": [
        {
          "output_type": "stream",
          "name": "stdout",
          "text": [
            "My tuple: (100, 200, 300)\n"
          ]
        },
        {
          "output_type": "execute_result",
          "data": {
            "text/plain": [
              "tuple"
            ]
          },
          "metadata": {},
          "execution_count": 11
        }
      ]
    },
    {
      "cell_type": "code",
      "source": [
        "#Practical question\n",
        "'''\n",
        " 12. Write a code to access the second-to-last element of the tuple ('red', 'green', 'blue', 'yellow').\n",
        "\n",
        "'''\n",
        "'''\n",
        "Answere:-12\n",
        "'''\n",
        "# Define the tuple\n",
        "colors = ('red', 'green', 'blue', 'yellow')\n",
        "\n",
        "# Access the second-to-last element using negative indexing\n",
        "second_to_last_element = colors[-2]\n",
        "\n",
        "print(f\"The tuple is: {colors}\")\n",
        "print(f\"The second-to-last element is: {second_to_last_element}\")\n"
      ],
      "metadata": {
        "colab": {
          "base_uri": "https://localhost:8080/"
        },
        "id": "HnrU4esveByg",
        "outputId": "317ae257-88db-4800-d4c9-a84be9b281c7"
      },
      "execution_count": null,
      "outputs": [
        {
          "output_type": "stream",
          "name": "stdout",
          "text": [
            "The tuple is: ('red', 'green', 'blue', 'yellow')\n",
            "The second-to-last element is: blue\n"
          ]
        }
      ]
    },
    {
      "cell_type": "code",
      "metadata": {
        "colab": {
          "base_uri": "https://localhost:8080/"
        },
        "id": "8b7cf33d",
        "outputId": "b9b39c7d-527c-48a6-ac79-7c5dfcb35ab0"
      },
      "source": [
        "# Practical question\n",
        "'''\n",
        "Q13. Write a code to find the minimum number in the tuple (10, 20, 5, 15)\n",
        "\n",
        "'''\n",
        "'''\n",
        "Answere:-13\n",
        "'''\n",
        "my_tuple = (10, 20, 5, 15)\n",
        "minimum_number = min(my_tuple)\n",
        "print(\"The minimum number in the tuple is:\", minimum_number)"
      ],
      "execution_count": null,
      "outputs": [
        {
          "output_type": "stream",
          "name": "stdout",
          "text": [
            "The minimum number in the tuple is: 5\n"
          ]
        }
      ]
    },
    {
      "cell_type": "code",
      "metadata": {
        "colab": {
          "base_uri": "https://localhost:8080/"
        },
        "id": "485390f1",
        "outputId": "127c086e-92e0-41d4-b4df-d305aaa7ec30"
      },
      "source": [
        "#Practical question\n",
        "'''\n",
        "Q14. Write a code to find the index of the element \"cat\" in the tuple ('dog', 'cat', 'rabbit').\n",
        "\n",
        "'''\n",
        "'''\n",
        "Answere:-14\n",
        "'''\n",
        "my_tuple = ('dog', 'cat', 'rabbit')\n",
        "index = my_tuple.index('cat')\n",
        "print(\"The index of the element 'cat' in the tuple is:\", index)"
      ],
      "execution_count": null,
      "outputs": [
        {
          "output_type": "stream",
          "name": "stdout",
          "text": [
            "The index of the element 'cat' in the tuple is: 1\n"
          ]
        }
      ]
    },
    {
      "cell_type": "code",
      "metadata": {
        "colab": {
          "base_uri": "https://localhost:8080/"
        },
        "id": "44a21d63",
        "outputId": "b14c7f03-dd37-49e8-9fac-fc69bb9b9f0a"
      },
      "source": [
        "# Practical question\n",
        "'''\n",
        "Q15. Write a code to create a tuple containing three different fruits and check if \"kiwi\" is in it.\n",
        "\n",
        "'''\n",
        "'''\n",
        "Answere:-15\n",
        "'''\n",
        "fruits_tuple = ('apple', 'banana', 'orange')\n",
        "if 'kiwi' in fruits_tuple:\n",
        "    print(\"Yes, 'kiwi' is in the tuple.\")\n",
        "else:\n",
        "    print(\"No, 'kiwi' is not in the tuple.\")"
      ],
      "execution_count": null,
      "outputs": [
        {
          "output_type": "stream",
          "name": "stdout",
          "text": [
            "No, 'kiwi' is not in the tuple.\n"
          ]
        }
      ]
    },
    {
      "cell_type": "code",
      "metadata": {
        "colab": {
          "base_uri": "https://localhost:8080/"
        },
        "id": "dd537016",
        "outputId": "7abc3feb-aef2-4717-dfe5-65ba6179e6f6"
      },
      "source": [
        "# Practical question\n",
        "'''\n",
        "Q16. Write a code to create a set with the elements 'a', 'b', 'c' and print it.\n",
        "\n",
        "'''\n",
        "'''\n",
        "Answere:-16\n",
        "'''\n",
        "my_set = {'a', 'b', 'c'}\n",
        "print(\"My set of elements are:\", my_set)"
      ],
      "execution_count": null,
      "outputs": [
        {
          "output_type": "stream",
          "name": "stdout",
          "text": [
            "My set of elements are: {'a', 'b', 'c'}\n"
          ]
        }
      ]
    },
    {
      "cell_type": "code",
      "metadata": {
        "colab": {
          "base_uri": "https://localhost:8080/"
        },
        "id": "d7479d3b",
        "outputId": "28675bb4-4ec2-4ba2-d673-bf9967a03d80"
      },
      "source": [
        "# Practical question\n",
        "'''\n",
        "Q17. Write a code to clear all elements from the set {1, 2, 3, 4, 5}.\n",
        "\n",
        "'''\n",
        "'''\n",
        "Answere:-17\n",
        "'''\n",
        "my_set = {1, 2, 3, 4, 5}\n",
        "print(\"Original set:\", my_set)\n",
        "my_set.clear()\n",
        "print(\"Cleared set:\", my_set)"
      ],
      "execution_count": null,
      "outputs": [
        {
          "output_type": "stream",
          "name": "stdout",
          "text": [
            "Original set: {1, 2, 3, 4, 5}\n",
            "Cleared set: set()\n"
          ]
        }
      ]
    },
    {
      "cell_type": "code",
      "metadata": {
        "colab": {
          "base_uri": "https://localhost:8080/"
        },
        "id": "a3cd2e17",
        "outputId": "86304f75-0f47-484e-fe17-f7f94f8cbdcc"
      },
      "source": [
        "# Practical question\n",
        "'''\n",
        "Q18. Write a code to remove the element 4 from the set {1, 2, 3, 4}.\n",
        "\n",
        "'''\n",
        "'''\n",
        "Answere:-18\n",
        "'''\n",
        "my_set = {1, 2, 3, 4}\n",
        "print(\"Original set:\", my_set)\n",
        "my_set.remove(4)\n",
        "print(\"Set after removing 4:\", my_set)"
      ],
      "execution_count": null,
      "outputs": [
        {
          "output_type": "stream",
          "name": "stdout",
          "text": [
            "Original set: {1, 2, 3, 4}\n",
            "Set after removing 4: {1, 2, 3}\n"
          ]
        }
      ]
    },
    {
      "cell_type": "code",
      "metadata": {
        "colab": {
          "base_uri": "https://localhost:8080/"
        },
        "id": "f96befa0",
        "outputId": "843d9aff-65fc-417d-b386-7eab1233c4c3"
      },
      "source": [
        "# Practical question\n",
        "'''\n",
        "Q19. Write a code to find the union of two sets {1, 2, 3} and {3, 4, 5}.\n",
        "\n",
        "'''\n",
        "'''\n",
        "Answere:-19\n",
        "'''\n",
        "set1 = {1, 2, 3}\n",
        "set2 = {3, 4, 5}\n",
        "\n",
        "union_set = set1 | set2\n",
        "# Alternatively, using the union() method:\n",
        "# union_set = set1.union(set2)\n",
        "\n",
        "print(\"Set 1:\", set1)\n",
        "print(\"Set 2:\", set2)\n",
        "print(\"Union of Set 1 and Set 2:\", union_set)"
      ],
      "execution_count": null,
      "outputs": [
        {
          "output_type": "stream",
          "name": "stdout",
          "text": [
            "Set 1: {1, 2, 3}\n",
            "Set 2: {3, 4, 5}\n",
            "Union of Set 1 and Set 2: {1, 2, 3, 4, 5}\n"
          ]
        }
      ]
    },
    {
      "cell_type": "code",
      "metadata": {
        "colab": {
          "base_uri": "https://localhost:8080/"
        },
        "id": "cec445da",
        "outputId": "13daad80-7d30-462f-f64e-814f26827dea"
      },
      "source": [
        "# Practical question\n",
        "'''\n",
        "Q20. Write a code to find the intersection of two sets {1, 2, 3} and {2, 3, 4}.\n",
        "\n",
        "'''\n",
        "'''\n",
        "Answere:-20\n",
        "'''\n",
        "set1 = {1, 2, 3}\n",
        "set2 = {2, 3, 4}\n",
        "\n",
        "intersection_set = set1 & set2\n",
        "# Alternatively, using the intersection() method:\n",
        "# intersection_set = set1.intersection(set2)\n",
        "\n",
        "print(\"Set 1:\", set1)\n",
        "print(\"Set 2:\", set2)\n",
        "print(\"Intersection of Set 1 and Set 2:\", intersection_set)"
      ],
      "execution_count": null,
      "outputs": [
        {
          "output_type": "stream",
          "name": "stdout",
          "text": [
            "Set 1: {1, 2, 3}\n",
            "Set 2: {2, 3, 4}\n",
            "Intersection of Set 1 and Set 2: {2, 3}\n"
          ]
        }
      ]
    },
    {
      "cell_type": "code",
      "metadata": {
        "colab": {
          "base_uri": "https://localhost:8080/"
        },
        "id": "fa16ff4c",
        "outputId": "9bf39762-fdbd-4d2d-8cc8-ee743bc56d21"
      },
      "source": [
        "# Practical question\n",
        "'''\n",
        "Q21. Write a code to create a dictionary with the keys \"name\", \"age\", and \"city\", and print it.\n",
        "\n",
        "'''\n",
        "'''\n",
        "Answere:-21\n",
        "'''\n",
        "my_dict = {\n",
        "    \"name\": \"Alice\",\n",
        "    \"age\": 30,\n",
        "    \"city\": \"New York\"\n",
        "}\n",
        "print(\"My dictionary:\", my_dict)"
      ],
      "execution_count": null,
      "outputs": [
        {
          "output_type": "stream",
          "name": "stdout",
          "text": [
            "My dictionary: {'name': 'Alice', 'age': 30, 'city': 'New York'}\n"
          ]
        }
      ]
    },
    {
      "cell_type": "code",
      "metadata": {
        "colab": {
          "base_uri": "https://localhost:8080/"
        },
        "id": "3ec4bfe7",
        "outputId": "ebbe0606-5a7d-4d6c-be1e-a61043e11fa7"
      },
      "source": [
        "# Practical question\n",
        "'''\n",
        "Q22. Write a code to add a new key-value pair \"country\": \"USA\" to the dictionary {'name': 'John', 'age': 25}.\n",
        "\n",
        "'''\n",
        "'''\n",
        "Answere:-22\n",
        "'''\n",
        "my_dict = {'name': 'John', 'age': 25}\n",
        "print(\"Original dictionary:\", my_dict)\n",
        "my_dict[\"country\"] = \"USA\"\n",
        "print(\"Updated dictionary:\", my_dict)"
      ],
      "execution_count": null,
      "outputs": [
        {
          "output_type": "stream",
          "name": "stdout",
          "text": [
            "Original dictionary: {'name': 'John', 'age': 25}\n",
            "Updated dictionary: {'name': 'John', 'age': 25, 'country': 'USA'}\n"
          ]
        }
      ]
    },
    {
      "cell_type": "code",
      "metadata": {
        "colab": {
          "base_uri": "https://localhost:8080/"
        },
        "id": "da0e73d8",
        "outputId": "555cbb93-343a-4eef-879d-c07dba78a948"
      },
      "source": [
        "# Practical question\n",
        "'''\n",
        "Q23. Write a code to access the value associated with the key \"name\" in the dictionary {'name': 'Alice', 'age': 30}.\n",
        "\n",
        "'''\n",
        "'''\n",
        "Answere:-23\n",
        "'''\n",
        "my_dict = {'name': 'Alice', 'age': 30}\n",
        "name_value = my_dict[\"name\"]\n",
        "print(\"The value associated with the key 'name' is:\", name_value)"
      ],
      "execution_count": null,
      "outputs": [
        {
          "output_type": "stream",
          "name": "stdout",
          "text": [
            "The value associated with the key 'name' is: Alice\n"
          ]
        }
      ]
    },
    {
      "cell_type": "code",
      "metadata": {
        "colab": {
          "base_uri": "https://localhost:8080/"
        },
        "id": "fb5702fb",
        "outputId": "c05c7463-6fb3-4ba7-aefa-bc9ab7fc7956"
      },
      "source": [
        "# Practical question\n",
        "'''\n",
        "Q24. Write a code to remove the key \"age\" from the dictionary {'name': 'Bob', 'age': 22, 'city': 'New York'}.\n",
        "\n",
        "'''\n",
        "'''\n",
        "Answere:-24\n",
        "'''\n",
        "my_dict = {'name': 'Bob', 'age': 22, 'city': 'New York'}\n",
        "print(\"Original dictionary:\", my_dict)\n",
        "del my_dict[\"age\"]\n",
        "print(\"Updated dictionary:\", my_dict)"
      ],
      "execution_count": null,
      "outputs": [
        {
          "output_type": "stream",
          "name": "stdout",
          "text": [
            "Original dictionary: {'name': 'Bob', 'age': 22, 'city': 'New York'}\n",
            "Updated dictionary: {'name': 'Bob', 'city': 'New York'}\n"
          ]
        }
      ]
    },
    {
      "cell_type": "code",
      "metadata": {
        "colab": {
          "base_uri": "https://localhost:8080/"
        },
        "id": "28a92787",
        "outputId": "f82e67d5-5574-4bbe-a680-78286491cff0"
      },
      "source": [
        "# Practical question\n",
        "'''\n",
        "Q25. Write a code to check if the key \"city\" exists in the dictionary {'name': 'Alice', 'city': 'Paris'}.\n",
        "\n",
        "'''\n",
        "'''\n",
        "Answere:-25\n",
        "'''\n",
        "my_dict = {'name': 'Alice', 'city': 'Paris'}\n",
        "if \"city\" in my_dict:\n",
        "    print(\"The key 'city' exists in the dictionary.\")\n",
        "else:\n",
        "    print(\"The key 'city' does not exist in the dictionary.\")"
      ],
      "execution_count": null,
      "outputs": [
        {
          "output_type": "stream",
          "name": "stdout",
          "text": [
            "The key 'city' exists in the dictionary.\n"
          ]
        }
      ]
    },
    {
      "cell_type": "code",
      "metadata": {
        "colab": {
          "base_uri": "https://localhost:8080/"
        },
        "id": "8038d8a3",
        "outputId": "9a42ed7f-eecb-4fe4-fc4a-304d6d49eed7"
      },
      "source": [
        "# Practical question\n",
        "'''\n",
        "Q26. Write a code to create a list, a tuple, and a dictionary, and print them all.\n",
        "\n",
        "'''\n",
        "'''\n",
        "Answere:-26\n",
        "'''\n",
        "my_list = [1, \"hello\", True, 3.14]\n",
        "my_tuple = (10, \"world\", False)\n",
        "my_dict = {\"a\": 1, \"b\": \"two\", \"c\": [1, 2, 3]}\n",
        "\n",
        "print(\"My list:\", my_list)\n",
        "print(\"My tuple:\", my_tuple)\n",
        "print(\"My dictionary:\", my_dict)"
      ],
      "execution_count": null,
      "outputs": [
        {
          "output_type": "stream",
          "name": "stdout",
          "text": [
            "My list: [1, 'hello', True, 3.14]\n",
            "My tuple: (10, 'world', False)\n",
            "My dictionary: {'a': 1, 'b': 'two', 'c': [1, 2, 3]}\n"
          ]
        }
      ]
    },
    {
      "cell_type": "code",
      "metadata": {
        "colab": {
          "base_uri": "https://localhost:8080/"
        },
        "id": "bb5f080d",
        "outputId": "b2da29a5-5f44-4473-bf34-a75fb2a87b32"
      },
      "source": [
        "# Practical question\n",
        "'''\n",
        "Q27. Write a code to create a list of 5 random numbers between 1 and 100, sort it in ascending order, and print the result.\n",
        "\n",
        "'''\n",
        "'''\n",
        "Answere:-27\n",
        "'''\n",
        "import random\n",
        "\n",
        "# Create a list of 5 random numbers between 1 and 100\n",
        "random_numbers = [random.randint(1, 100) for _ in range(5)]\n",
        "print(\"Original list of random numbers:\", random_numbers)\n",
        "\n",
        "# Sort the list in ascending order\n",
        "random_numbers.sort()\n",
        "\n",
        "# Print the sorted list\n",
        "print(\"Sorted list in ascending order:\", random_numbers)"
      ],
      "execution_count": null,
      "outputs": [
        {
          "output_type": "stream",
          "name": "stdout",
          "text": [
            "Original list of random numbers: [55, 61, 5, 98, 65]\n",
            "Sorted list in ascending order: [5, 55, 61, 65, 98]\n"
          ]
        }
      ]
    },
    {
      "cell_type": "code",
      "metadata": {
        "colab": {
          "base_uri": "https://localhost:8080/"
        },
        "id": "e2183072",
        "outputId": "e7684dde-534f-4f2c-cd8d-647b70d0f02f"
      },
      "source": [
        "# Practical question\n",
        "'''\n",
        "Q28. Write a code to create a list with strings and print the element at the third index.\n",
        "\n",
        "'''\n",
        "'''\n",
        "Answere:-28\n",
        "'''\n",
        "my_list = [\"apple\", \"banana\", \"cherry\", \"date\", \"elderberry\"]\n",
        "print(\"The element at the third index is:\", my_list[3])"
      ],
      "execution_count": null,
      "outputs": [
        {
          "output_type": "stream",
          "name": "stdout",
          "text": [
            "The element at the third index is: date\n"
          ]
        }
      ]
    },
    {
      "cell_type": "code",
      "metadata": {
        "colab": {
          "base_uri": "https://localhost:8080/"
        },
        "id": "230d622b",
        "outputId": "5a61720d-2a5e-4f27-913b-9fa14bdf1ace"
      },
      "source": [
        "# Practical question\n",
        "'''\n",
        "Q29. Write a code to combine two dictionaries into one and print the result.\n",
        "\n",
        "'''\n",
        "'''\n",
        "Answere:-29\n",
        "'''\n",
        "dict1 = {\"a\": 1, \"b\": 2}\n",
        "dict2 = {\"c\": 3, \"d\": 4}\n",
        "\n",
        "combined_dict = {**dict1, **dict2}\n",
        "# Alternatively, using update() method:\n",
        "# combined_dict = dict1.copy()\n",
        "# combined_dict.update(dict2)\n",
        "\n",
        "print(\"Dictionary 1:\", dict1)\n",
        "print(\"Dictionary 2:\", dict2)\n",
        "print(\"Combined dictionary:\", combined_dict)"
      ],
      "execution_count": null,
      "outputs": [
        {
          "output_type": "stream",
          "name": "stdout",
          "text": [
            "Dictionary 1: {'a': 1, 'b': 2}\n",
            "Dictionary 2: {'c': 3, 'd': 4}\n",
            "Combined dictionary: {'a': 1, 'b': 2, 'c': 3, 'd': 4}\n"
          ]
        }
      ]
    },
    {
      "cell_type": "code",
      "metadata": {
        "colab": {
          "base_uri": "https://localhost:8080/"
        },
        "id": "8719c8dd",
        "outputId": "06094763-1721-48bf-d9a5-9e830a32b068"
      },
      "source": [
        "# Practical question\n",
        "'''\n",
        "Q30. Write a code to convert a list of strings into a set.\n",
        "\n",
        "'''\n",
        "'''\n",
        "Answere:-30\n",
        "'''\n",
        "my_list = [\"apple\", \"banana\", \"cherry\", \"apple\", \"date\"]\n",
        "my_set = set(my_list)\n",
        "\n",
        "print(\"Original list:\", my_list)\n",
        "print(\"Converted set:\", my_set)"
      ],
      "execution_count": null,
      "outputs": [
        {
          "output_type": "stream",
          "name": "stdout",
          "text": [
            "Original list: ['apple', 'banana', 'cherry', 'apple', 'date']\n",
            "Converted set: {'date', 'apple', 'cherry', 'banana'}\n"
          ]
        }
      ]
    }
  ]
}